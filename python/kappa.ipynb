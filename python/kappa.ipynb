{
 "cells": [
  {
   "cell_type": "code",
   "execution_count": 2,
   "metadata": {},
   "outputs": [],
   "source": [
    "def calcKappa(x_array,y_array):\n",
    "    s_array = []\n",
    "    k_array = []\n",
    "    if(len(x_array) != len(y_array)):\n",
    "        return(s_array , k_array)\n",
    "    \n",
    "    length = len(x_array)\n",
    "    temp_s = 0.0\n",
    "    s_array.append(temp_s)\n",
    "    for i in range(1 , length):\n",
    "        temp_s += np.sqrt(np.square(y_array[i] - y_array[i - 1]) + np.square(x_array[i] - x_array[i - 1]))\n",
    "        s_array.append(temp_s)\n",
    "\n",
    "    xds,yds,xdds,ydds = [],[],[],[]\n",
    "    for i in range(length):\n",
    "        if i == 0:\n",
    "            xds.append((x_array[i + 1] - x_array[i]) / (s_array[i + 1] - s_array[i]))\n",
    "            yds.append((y_array[i + 1] - y_array[i]) / (s_array[i + 1] - s_array[i]))\n",
    "        elif i == length - 1:\n",
    "            xds.append((x_array[i] - x_array[i-1]) / (s_array[i] - s_array[i-1]))\n",
    "            yds.append((y_array[i] - y_array[i-1]) / (s_array[i] - s_array[i-1]))\n",
    "        else:\n",
    "            xds.append((x_array[i+1] - x_array[i-1]) / (s_array[i+1] - s_array[i-1]))\n",
    "            yds.append((y_array[i+1] - y_array[i-1]) / (s_array[i+1] - s_array[i-1]))\n",
    "    for i in range(length):\n",
    "        if i == 0:\n",
    "            xdds.append((xds[i + 1] - xds[i]) / (s_array[i + 1] - s_array[i]))\n",
    "            ydds.append((yds[i + 1] - yds[i]) / (s_array[i + 1] - s_array[i]))\n",
    "        elif i == length - 1:\n",
    "            xdds.append((xds[i] - xds[i-1]) / (s_array[i] - s_array[i-1]))\n",
    "            ydds.append((yds[i] - yds[i-1]) / (s_array[i] - s_array[i-1]))\n",
    "        else:\n",
    "            xdds.append((xds[i+1] - xds[i-1]) / (s_array[i+1] - s_array[i-1]))\n",
    "            ydds.append((yds[i+1] - yds[i-1]) / (s_array[i+1] - s_array[i-1]))\n",
    "    for i in range(length):\n",
    "        k_array.append((xds[i] * ydds[i] - yds[i] * xdds[i]) / (np.sqrt(xds[i] * xds[i] + yds[i] * yds[i]) * (xds[i] * xds[i] + yds[i] * yds[i]) + 1e-6));\n",
    "    return(s_array,k_array)"
   ]
  },
  {
   "cell_type": "code",
   "execution_count": 11,
   "metadata": {},
   "outputs": [
    {
     "data": {
      "application/vnd.jupyter.widget-view+json": {
       "model_id": "62509f2bca4c42cd9965f00a16ca2df0",
       "version_major": 2,
       "version_minor": 0
      },
      "text/plain": [
       "Canvas(toolbar=Toolbar(toolitems=[('Home', 'Reset original view', 'home', 'home'), ('Back', 'Back to previous …"
      ]
     },
     "metadata": {},
     "output_type": "display_data"
    }
   ],
   "source": [
    "x_arr = [0,5,7,9,10]\n",
    "y_arr = [10,8.66,7.1414,4.35,0]\n",
    "\n",
    "import matplotlib.pyplot as plt\n",
    "import numpy as np\n",
    "%matplotlib widget\n",
    "plt.plot(x_arr,y_arr,'.--')\n",
    "s_arr,k_arr = calcKappa(x_arr,y_arr)"
   ]
  },
  {
   "cell_type": "code",
   "execution_count": 12,
   "metadata": {},
   "outputs": [
    {
     "data": {
      "text/plain": [
       "[<matplotlib.lines.Line2D at 0x7fa7df27e760>]"
      ]
     },
     "execution_count": 12,
     "metadata": {},
     "output_type": "execute_result"
    }
   ],
   "source": [
    "plt.plot(s_arr,k_arr)"
   ]
  },
  {
   "cell_type": "code",
   "execution_count": 13,
   "metadata": {},
   "outputs": [],
   "source": [
    "x_arr1 = [0,2.5,5,6,7,8,9,9.5,10]\n",
    "y_arr1 = [10,9.33,8.66,7.9007,7.1414,5.7457,4.35,2.175,0]\n",
    "\n",
    "plt.plot(x_arr1,y_arr1,'r.')\n",
    "plt.plot(x_arr,y_arr,'.-')\n",
    "s_arr1,k_arr1 = calcKappa(x_arr1,y_arr1)"
   ]
  },
  {
   "cell_type": "code",
   "execution_count": 14,
   "metadata": {},
   "outputs": [
    {
     "data": {
      "text/plain": [
       "[<matplotlib.lines.Line2D at 0x7fa7df046a00>]"
      ]
     },
     "execution_count": 14,
     "metadata": {},
     "output_type": "execute_result"
    }
   ],
   "source": [
    "plt.plot(s_arr,k_arr,'.-')\n",
    "plt.plot(s_arr1,k_arr1,'r.-')"
   ]
  },
  {
   "cell_type": "code",
   "execution_count": 15,
   "metadata": {},
   "outputs": [],
   "source": [
    "lx, = plt.plot(s_arr,k_arr,'.-')"
   ]
  },
  {
   "cell_type": "code",
   "execution_count": 18,
   "metadata": {},
   "outputs": [],
   "source": [
    "lx.set_ydata(s_arr*20)"
   ]
  },
  {
   "cell_type": "code",
   "execution_count": null,
   "metadata": {},
   "outputs": [],
   "source": []
  }
 ],
 "metadata": {
  "kernelspec": {
   "display_name": "Python 3",
   "language": "python",
   "name": "python3"
  },
  "language_info": {
   "codemirror_mode": {
    "name": "ipython",
    "version": 3
   },
   "file_extension": ".py",
   "mimetype": "text/x-python",
   "name": "python",
   "nbconvert_exporter": "python",
   "pygments_lexer": "ipython3",
   "version": "3.8.2"
  }
 },
 "nbformat": 4,
 "nbformat_minor": 4
}
