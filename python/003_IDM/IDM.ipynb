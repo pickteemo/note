{
 "cells": [
  {
   "cell_type": "markdown",
   "metadata": {},
   "source": [
    "## IDM\n"
   ]
  },
  {
   "cell_type": "code",
   "execution_count": 1,
   "metadata": {},
   "outputs": [],
   "source": [
    "import numpy as np\n",
    "import matplotlib.pyplot as plt\n",
    "import math\n",
    "%matplotlib widget\n",
    "\n",
    "v0 = 120       #km/s desired velocity\n",
    "s0 = 5.0       #minimum spaceing\n",
    "kethe = 4      #/delta : free acceleration exponent\n",
    "T = 1.5        #desired time heading\n",
    "a = 1.4        #maximum acceleration\n",
    "b = 2.0        #desired deceleration"
   ]
  },
  {
   "cell_type": "code",
   "execution_count": 2,
   "metadata": {},
   "outputs": [
    {
     "data": {
      "application/vnd.jupyter.widget-view+json": {
       "model_id": "03f5fbd4292549d2b39e43f0236882b4",
       "version_major": 2,
       "version_minor": 0
      },
      "text/plain": [
       "Canvas(toolbar=Toolbar(toolitems=[('Home', 'Reset original view', 'home', 'home'), ('Back', 'Back to previous …"
      ]
     },
     "metadata": {},
     "output_type": "display_data"
    },
    {
     "data": {
      "text/plain": [
       "[<matplotlib.lines.Line2D at 0x7fe5f7be9580>]"
      ]
     },
     "execution_count": 2,
     "metadata": {},
     "output_type": "execute_result"
    }
   ],
   "source": [
    "v = np.linspace(start = 0, stop = v0, num = 20)\n",
    "\n",
    "a_free = a * (1 - (v/v0)**kethe) \n",
    "\n",
    "fig, ax = plt.subplots()\n",
    "ax.set_ylabel(\"a_free\")\n",
    "ax.set_xlabel(\"v\")\n",
    "ax.plot(v,a_free,\"o--\")"
   ]
  },
  {
   "cell_type": "code",
   "execution_count": 3,
   "metadata": {},
   "outputs": [
    {
     "data": {
      "application/vnd.jupyter.widget-view+json": {
       "model_id": "17aee74cba2441d88a920f83c1a6939f",
       "version_major": 2,
       "version_minor": 0
      },
      "text/plain": [
       "Canvas(toolbar=Toolbar(toolitems=[('Home', 'Reset original view', 'home', 'home'), ('Back', 'Back to previous …"
      ]
     },
     "metadata": {},
     "output_type": "display_data"
    },
    {
     "data": {
      "text/plain": [
       "<matplotlib.legend.Legend at 0x7fe5f7d293a0>"
      ]
     },
     "execution_count": 3,
     "metadata": {},
     "output_type": "execute_result"
    }
   ],
   "source": [
    "#前车为80km/h,距离100m时,不同车速下的制动\n",
    "v_front = 80 #km/h front v\n",
    "s_front = 100 #m   front s\n",
    "\n",
    "headway_distance = s0 + v/3.6*T \n",
    "s_star = headway_distance + v/3.6 * (v - v_front)/3.6 / (2*math.sqrt(a*b))\n",
    "a_interaction = -a * ((s_star/s_front)**2)\n",
    "\n",
    "fig = plt.figure()\n",
    "ax1 = fig.add_subplot(1,1,1)\n",
    "ax1.set_ylabel(\"a\")\n",
    "ax1.set_xlabel(\"v\")\n",
    "ax1.plot(v,a_interaction,\"y--\",label=\"a_interaction\")\n",
    "\n",
    "a_idm = a_free + a_interaction\n",
    "ax1.plot(v,a_idm,\"o--\",label=\"a_idm\")\n",
    "\n",
    "ax1.plot(v,a_free,\"g--\",label=\"a_free\")\n",
    "ax1.set_title(\"a_dim = a_free + a_interaction\\nv_front = 80km/h    s_front = 100m\")\n",
    "ax1.legend()"
   ]
  },
  {
   "cell_type": "code",
   "execution_count": 4,
   "metadata": {},
   "outputs": [
    {
     "data": {
      "application/vnd.jupyter.widget-view+json": {
       "model_id": "f22d10a2342c4b91b8ebf012d246a163",
       "version_major": 2,
       "version_minor": 0
      },
      "text/plain": [
       "Canvas(toolbar=Toolbar(toolitems=[('Home', 'Reset original view', 'home', 'home'), ('Back', 'Back to previous …"
      ]
     },
     "metadata": {},
     "output_type": "display_data"
    },
    {
     "data": {
      "text/plain": [
       "<matplotlib.legend.Legend at 0x7fe5f7d66a00>"
      ]
     },
     "execution_count": 4,
     "metadata": {},
     "output_type": "execute_result"
    }
   ],
   "source": [
    "#自车车速一定时,a与前车车速的关系:\n",
    "v = 60 #km/h\n",
    "v_front = np.linspace(start = 0, stop = v0, num = 20)\n",
    "a_free = a * (1 - (v/v0)**kethe) * np.ones(20)\n",
    "headway_distance = s0 + v/3.6*T \n",
    "s_star = headway_distance + v/3.6 * (v - v_front)/3.6 / (2*math.sqrt(a*b))\n",
    "a_interaction = -a * ((s_star/s_front)**2)\n",
    "a_idm = a_free + a_interaction\n",
    "\n",
    "fig = plt.figure()\n",
    "ax1 = fig.add_subplot(1,1,1)\n",
    "ax1.set_ylabel(\"a\")\n",
    "ax1.set_xlabel(\"v\")\n",
    "lx1 ,= ax1.plot(v_front,a_interaction,\"y--\",label=\"a_interaction\")\n",
    "lx2 ,= ax1.plot(v_front,a_idm,\"o--\",label=\"a_idm\")\n",
    "ax1.plot(v_front,a_free,\"g--\",label=\"a_free\")\n",
    "ax1.set_title(\"a_idm = a_free + a_interaction \\n ego_v = 60km/h\")\n",
    "ax1.legend()"
   ]
  },
  {
   "cell_type": "code",
   "execution_count": 5,
   "metadata": {},
   "outputs": [
    {
     "data": {
      "application/vnd.jupyter.widget-view+json": {
       "model_id": "5bc632e9ac8c431b8c74cdb03c07c417",
       "version_major": 2,
       "version_minor": 0
      },
      "text/plain": [
       "Canvas(toolbar=Toolbar(toolitems=[('Home', 'Reset original view', 'home', 'home'), ('Back', 'Back to previous …"
      ]
     },
     "metadata": {},
     "output_type": "display_data"
    },
    {
     "data": {
      "text/plain": [
       "<matplotlib.legend.Legend at 0x7fe5f6834eb0>"
      ]
     },
     "execution_count": 5,
     "metadata": {},
     "output_type": "execute_result"
    }
   ],
   "source": [
    "#自车车速一定时,a与前车距离的关系:\n",
    "v = 80 #km/h\n",
    "v_front = 60 #km/h\n",
    "s_front = np.linspace(start = 20, stop = 200, num = 20)\n",
    "a_free = a * (1 - (v/v0)**kethe) * np.ones(20)\n",
    "headway_distance = s0 + v/3.6*T \n",
    "s_star = headway_distance + v/3.6 * (v - v_front)/3.6 / (2*math.sqrt(a*b))\n",
    "a_interaction = -a * ((s_star/s_front)**2)\n",
    "a_idm = a_free + a_interaction\n",
    "\n",
    "fig = plt.figure()\n",
    "ax1 = fig.add_subplot(1,1,1)\n",
    "ax1.set_ylabel(\"a\")\n",
    "ax1.set_xlabel(\"v\")\n",
    "lx1 ,= ax1.plot(s_front,a_interaction,\"y--\",label=\"a_interaction\")\n",
    "lx2 ,= ax1.plot(s_front,a_idm,\"o--\",label=\"a_idm\")\n",
    "ax1.plot(s_front,a_free,\"g--\",label=\"a_free\")\n",
    "ax1.set_title(\"a_idm = a_free + a_interaction \\n ego_v = 60km/h\")\n",
    "ax1.legend()"
   ]
  },
  {
   "cell_type": "code",
   "execution_count": 18,
   "metadata": {},
   "outputs": [
    {
     "data": {
      "application/vnd.jupyter.widget-view+json": {
       "model_id": "e4ccc055083543518aeb80fb51e4d750",
       "version_major": 2,
       "version_minor": 0
      },
      "text/plain": [
       "Canvas(toolbar=Toolbar(toolitems=[('Home', 'Reset original view', 'home', 'home'), ('Back', 'Back to previous …"
      ]
     },
     "metadata": {},
     "output_type": "display_data"
    },
    {
     "name": "stderr",
     "output_type": "stream",
     "text": [
      "No handles with labels found to put in legend.\n"
     ]
    },
    {
     "data": {
      "text/plain": [
       "<matplotlib.legend.Legend at 0x7fe5fa4a0520>"
      ]
     },
     "execution_count": 18,
     "metadata": {},
     "output_type": "execute_result"
    }
   ],
   "source": [
    "#自车车速一定时,a与前车距离的关系:\n",
    "v = 60 #km/h\n",
    "v_front = np.linspace(start = 30, stop = v0, num = 30)\n",
    "s_front = np.linspace(start = 30, stop = 200, num = 30)\n",
    "a_free = a * (1 - (v/v0)**kethe)\n",
    "headway_distance = s0 + v/3.6*T \n",
    "\n",
    "X,Y,Z = [],[],[]\n",
    "\n",
    "for v_f in v_front:\n",
    "    for s_f in s_front:\n",
    "        s_star = headway_distance + v/3.6 * (v - v_f)/3.6 / (2*math.sqrt(a*b))\n",
    "        a_interaction = -a * ((s_star/s_f)**2)\n",
    "        a_idm = a_free + a_interaction\n",
    "        X.append(v_f)\n",
    "        Y.append(s_f)\n",
    "        Z.append(a_idm)\n",
    "\n",
    "\n",
    "fig = plt.figure()\n",
    "ax1 = fig.gca(projection='3d')\n",
    "ax1.set_ylabel(\"s_front\")\n",
    "ax1.set_xlabel(\"v_front\")\n",
    "ax1.set_zlabel(\"a_idm\")\n",
    "\n",
    "ax1.plot(X,Y,Z,\"o\",markersize=2)\n",
    "\n",
    "ax1.set_title(\"a_idm = a_free + a_interaction \\n ego_v = 60km/h\")\n",
    "ax1.legend()"
   ]
  },
  {
   "cell_type": "code",
   "execution_count": null,
   "metadata": {},
   "outputs": [],
   "source": [
    "#slider\n",
    "from ipywidgets import AppLayout, FloatSlider, VBox\n",
    "\n",
    "\n",
    "v = np.linspace(start = 0, stop = v0, num = 20)\n",
    "v_front = 80 #km/h front v\n",
    "s_front = 100 #m   front s\n",
    "a_free = a * (1 - (v/v0)**kethe) \n",
    "headway_distance = s0 + v/3.6*T \n",
    "s_star = headway_distance + v/3.6 * (v - v_front)/3.6 / (2*math.sqrt(a*b))\n",
    "a_interaction = -a * ((s_star/s_front)**2)\n",
    "a_idm = a_free + a_interaction\n",
    "\n",
    "fig = plt.figure()\n",
    "ax1 = fig.add_subplot(1,1,1)\n",
    "ax1.set_ylabel(\"a\")\n",
    "ax1.set_xlabel(\"v\")\n",
    "lx1 ,= ax1.plot(v,a_interaction,\"y--\",label=\"a_interaction\")\n",
    "lx2 ,= ax1.plot(v,a_idm,\"o--\",label=\"a_idm\")\n",
    "ax1.plot(v,a_free,\"g--\",label=\"a_free\")\n",
    "ax1.set_title(\"a_idm = a_free + a_interaction\")\n",
    "ax1.legend()\n",
    "\n",
    "def update_v(change):\n",
    "    global v_front \n",
    "    v_front = change.new \n",
    "    headway_distance = s0 + v/3.6*T \n",
    "    s_star = headway_distance + v/3.6 * (v - v_front)/3.6 / (2*math.sqrt(a*b))\n",
    "    a_interaction = -a * ((s_star/s_front)**2)\n",
    "    a_idm = a_free + a_interaction\n",
    "\n",
    "    lx1.set_ydata(a_interaction)\n",
    "    lx2.set_ydata(a_idm)\n",
    "    ax1.relim()\n",
    "    ax1.autoscale_view()\n",
    "    return\n",
    "\n",
    "def update_s(change):\n",
    "    global s_front \n",
    "    s_front = change.new \n",
    "    headway_distance = s0 + v/3.6*T \n",
    "    s_star = headway_distance + v/3.6 * (v - v_front)/3.6 / (2*math.sqrt(a*b))\n",
    "    a_interaction = -a * ((s_star/s_front)**2)\n",
    "    a_idm = a_free + a_interaction\n",
    "\n",
    "    lx1.set_ydata(a_interaction)\n",
    "    lx2.set_ydata(a_idm)\n",
    "    ax1.relim()\n",
    "    ax1.autoscale_view()\n",
    "    return\n",
    "\n",
    "v_front_slider = FloatSlider(\n",
    "    description = \"v\",\n",
    "    value=v_front,\n",
    "    min=0,\n",
    "    max=v0*1.5,\n",
    "    step=1,\n",
    ")\n",
    "v_front_slider.observe(update_v, names='value')\n",
    "\n",
    "\n",
    "s_front_slider = FloatSlider(\n",
    "    description = \"s\",\n",
    "    value=s_front,\n",
    "    min=0,\n",
    "    max=200,\n",
    "    step=1,\n",
    ")\n",
    "s_front_slider.observe(update_s, names='value')\n",
    "\n",
    "VBox([v_front_slider,s_front_slider])"
   ]
  }
 ],
 "metadata": {
  "kernelspec": {
   "display_name": "Python 3",
   "language": "python",
   "name": "python3"
  },
  "language_info": {
   "codemirror_mode": {
    "name": "ipython",
    "version": 3
   },
   "file_extension": ".py",
   "mimetype": "text/x-python",
   "name": "python",
   "nbconvert_exporter": "python",
   "pygments_lexer": "ipython3",
   "version": "3.8.2"
  }
 },
 "nbformat": 4,
 "nbformat_minor": 4
}
