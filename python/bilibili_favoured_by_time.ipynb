{
 "cells": [
  {
   "cell_type": "code",
   "execution_count": 2,
   "metadata": {},
   "outputs": [],
   "source": [
    "from bilibili_api import Verify\n",
    "from bilibili_api import user\n",
    "from bilibili_api import video"
   ]
  },
  {
   "cell_type": "code",
   "execution_count": 3,
   "metadata": {},
   "outputs": [],
   "source": [
    "import time\n",
    "import datetime\n",
    "\n",
    "# 1、datetime转unix时间戳\n",
    "now_time = datetime.datetime.now()\n",
    "#start_time = datetime.date(2021,2,21)\n",
    "#end_time = datetime.date(2021,2,23)\n",
    "#start_time_u = int(time.mktime(start_time.timetuple()))\n",
    "end_time_u = int(time.mktime(now_time.timetuple()))\n",
    "start_time_u = end_time_u - (86400 * 2)"
   ]
  },
  {
   "cell_type": "code",
   "execution_count": 4,
   "metadata": {},
   "outputs": [],
   "source": [
    "\n",
    "def operate_favorite_by_mid(_mid):\n",
    "    videos_list_g = user.get_videos_g(uid=_mid)\n",
    "    for video_t in videos_list_g:\n",
    "        # sleep\n",
    "        time.sleep(2.0) \n",
    "        # 跳过收藏的\n",
    "        bvid = video_t[\"bvid\"]\n",
    "        if video.is_favoured(bvid=bvid, verify=verify):\n",
    "            # sleep\n",
    "            time.sleep(2.0)\n",
    "            #print(\"favoured,break.\\tauthor:\" +\n",
    "            #     video_t[\"author\"] + \"\\t video:\" + video_t[\"title\"])\n",
    "            break\n",
    "\n",
    "        # 跳过太新的\n",
    "        create_time = video_t[\"created\"]\n",
    "        if create_time > end_time_u:\n",
    "#             print(\"too new,skip.\\tauthor:\" +\n",
    "#                   video_t[\"author\"] + \"\\t video:\" + video_t[\"title\"])\n",
    "            continue\n",
    "        elif create_time < start_time_u:\n",
    "#             print(\"too OLD,break.\\tauthor:\" +\n",
    "#                   video_t[\"author\"] + \"\\t video:\" + video_t[\"title\"])\n",
    "            break\n",
    "\n",
    "        # favoured\n",
    "        print(\"set favoured.\\tauthor:\" +\n",
    "              video_t[\"author\"] + \"\\t video:\" + video_t[\"title\"])\n",
    "        video.operate_favorite(add_media_ids=\"45360826\",\n",
    "                               bvid=bvid, verify=verify)\n",
    "        time.sleep(2.0)"
   ]
  },
  {
   "cell_type": "code",
   "execution_count": 22,
   "metadata": {},
   "outputs": [
    {
     "name": "stdout",
     "output_type": "stream",
     "text": [
      "save start\n",
      "(229/1177)\n",
      "set favoured.\tauthor:边检小花\t video:【233】张三：口岸现场凭啥不让我拍？02\n",
      "(230/1177)\n",
      "(231/1177)\n",
      "(232/1177)\n",
      "set favoured.\tauthor:东尼ookii\t video:《通  棺  教  程》\n",
      "(233/1177)\n",
      "(234/1177)\n"
     ]
    },
    {
     "ename": "KeyboardInterrupt",
     "evalue": "",
     "output_type": "error",
     "traceback": [
      "\u001b[0;31m---------------------------------------------------------------------------\u001b[0m",
      "\u001b[0;31mKeyboardInterrupt\u001b[0m                         Traceback (most recent call last)",
      "\u001b[0;32m<ipython-input-22-32694e02fc12>\u001b[0m in \u001b[0;36m<module>\u001b[0;34m\u001b[0m\n\u001b[1;32m     15\u001b[0m     \u001b[0moperate_favorite_by_mid\u001b[0m\u001b[0;34m(\u001b[0m\u001b[0mmid\u001b[0m\u001b[0;34m)\u001b[0m\u001b[0;34m\u001b[0m\u001b[0;34m\u001b[0m\u001b[0m\n\u001b[1;32m     16\u001b[0m     \u001b[0mprint\u001b[0m\u001b[0;34m(\u001b[0m\u001b[0;34m\"\\r(\"\u001b[0m \u001b[0;34m+\u001b[0m \u001b[0mstr\u001b[0m\u001b[0;34m(\u001b[0m\u001b[0mcount\u001b[0m\u001b[0;34m)\u001b[0m \u001b[0;34m+\u001b[0m \u001b[0;34m\"/\"\u001b[0m \u001b[0;34m+\u001b[0m \u001b[0mstr\u001b[0m\u001b[0;34m(\u001b[0m\u001b[0mfollowing_num\u001b[0m\u001b[0;34m)\u001b[0m \u001b[0;34m+\u001b[0m \u001b[0;34m\")\"\u001b[0m\u001b[0;34m)\u001b[0m\u001b[0;34m\u001b[0m\u001b[0;34m\u001b[0m\u001b[0m\n\u001b[0;32m---> 17\u001b[0;31m     \u001b[0mtime\u001b[0m\u001b[0;34m.\u001b[0m\u001b[0msleep\u001b[0m\u001b[0;34m(\u001b[0m\u001b[0;36m2.0\u001b[0m\u001b[0;34m)\u001b[0m\u001b[0;34m\u001b[0m\u001b[0;34m\u001b[0m\u001b[0m\n\u001b[0m\u001b[1;32m     18\u001b[0m \u001b[0mprint\u001b[0m\u001b[0;34m(\u001b[0m\u001b[0;34m\"save over\"\u001b[0m\u001b[0;34m)\u001b[0m\u001b[0;34m\u001b[0m\u001b[0;34m\u001b[0m\u001b[0m\n",
      "\u001b[0;31mKeyboardInterrupt\u001b[0m: "
     ]
    }
   ],
   "source": [
    "verify = Verify(sessdata=\"55604017%2C1629537801%2Cc87fe*21\",\n",
    "                csrf=\"2a58a75e97b20a8ab1f9e840076fa93c\")\n",
    "\n",
    "followings_g = user.get_followings_g(uid=7647426, verify=verify)\n",
    "relation = user.get_relation_info(uid=7647426, verify=verify)\n",
    "following_num = relation[\"following\"]\n",
    "follow_list_id = []\n",
    "count = 0\n",
    "print(\"save start\")\n",
    "for following in followings_g:\n",
    "    count = count + 1\n",
    "    if count <= 228:\n",
    "        continue\n",
    "    mid = following[\"mid\"]\n",
    "    operate_favorite_by_mid(mid)\n",
    "    print(\"\\r(\" + str(count) + \"/\" + str(following_num) + \")\")\n",
    "    time.sleep(2.0)\n",
    "print(\"save over\")"
   ]
  },
  {
   "cell_type": "code",
   "execution_count": null,
   "metadata": {},
   "outputs": [],
   "source": []
  }
 ],
 "metadata": {
  "kernelspec": {
   "display_name": "Python 3",
   "language": "python",
   "name": "python3"
  },
  "language_info": {
   "codemirror_mode": {
    "name": "ipython",
    "version": 3
   },
   "file_extension": ".py",
   "mimetype": "text/x-python",
   "name": "python",
   "nbconvert_exporter": "python",
   "pygments_lexer": "ipython3",
   "version": "3.8.2"
  }
 },
 "nbformat": 4,
 "nbformat_minor": 4
}
