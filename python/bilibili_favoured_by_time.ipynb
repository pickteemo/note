{
 "cells": [
  {
   "cell_type": "code",
   "execution_count": null,
   "metadata": {},
   "outputs": [],
   "source": [
    "from bilibili_api import Verify\n",
    "from bilibili_api import user\n",
    "from bilibili_api import video"
   ]
  },
  {
   "cell_type": "code",
   "execution_count": null,
   "metadata": {},
   "outputs": [],
   "source": [
    "import time\n",
    "import datetime\n",
    "\n",
    "# 1、datetime转unix时间戳\n",
    "start_time = datetime.date(2021,2,21)\n",
    "end_time = datetime.date(2021,2,23)\n",
    "start_time_u = int(time.mktime(start_time.timetuple()))\n",
    "end_time_u = int(time.mktime(end_time.timetuple()))"
   ]
  },
  {
   "cell_type": "code",
   "execution_count": null,
   "metadata": {},
   "outputs": [],
   "source": [
    "def operate_favorite_by_mid(_mid):\n",
    "    videos_list_g = user.get_videos_g(uid = _mid)\n",
    "    for video_t in videos_list_g:\n",
    "        # sleep\n",
    "        time.sleep(1.0)\n",
    "\n",
    "        #跳过收藏的\n",
    "        bvid = video_t[\"bvid\"]\n",
    "        if video.is_favoured(bvid = bvid ,verify = verify):\n",
    "            print(\"favoured,break.\\tauthor:\" + video_t[\"author\"] + \"\\t video:\" + video_t[\"title\"])\n",
    "            break\n",
    "\n",
    "        #跳过太新的\n",
    "        create_time = video_t[\"created\"]\n",
    "        if create_time > end_time_u:\n",
    "            print(\"too new,skip.\\tauthor:\" + video_t[\"author\"] + \"\\t video:\" + video_t[\"title\"])\n",
    "            continue\n",
    "        elif create_time < start_time_u:\n",
    "            print(\"too OLD,break.\\tauthor:\" + video_t[\"author\"] + \"\\t video:\" + video_t[\"title\"])\n",
    "            break\n",
    "\n",
    "        #favoured\n",
    "        print(\"set favoured.\\tauthor:\" + video_t[\"author\"] + \"\\t video:\" + video_t[\"title\"])\n",
    "        video.operate_favorite(add_media_ids=\"45360826\",bvid = bvid,verify = verify)\n"
   ]
  },
  {
   "cell_type": "code",
   "execution_count": null,
   "metadata": {},
   "outputs": [],
   "source": [
    "verify = Verify(sessdata=\"55604017%2C1629537801%2Cc87fe*21\",csrf=\"2a58a75e97b20a8ab1f9e840076fa93c\")\n",
    "\n",
    "followings_g = user.get_followings_g(uid=7647426,verify=verify)\n",
    "follow_list_id = []\n",
    "for following in followings_g:\n",
    "    mid = following[\"mid\"]\n",
    "    operate_favorite_by_mid(mid)"
   ]
  },
  {
   "cell_type": "code",
   "execution_count": 2,
   "metadata": {},
   "outputs": [
    {
     "data": {
      "text/plain": [
       "datetime.date(2021, 2, 23)"
      ]
     },
     "execution_count": 2,
     "metadata": {},
     "output_type": "execute_result"
    }
   ],
   "source": [
    "import datetime\n",
    "start_time = datetime.date(2021,2,22)\n",
    "end_time = datetime.date(2021,2,23)\n",
    "#start_time_u = int(time.mktime(start_time.timetuple()))\n",
    "end_time_u = int(time.mktime(now_time.timetuple()))"
   ]
  },
  {
   "cell_type": "code",
   "execution_count": null,
   "metadata": {},
   "outputs": [],
   "source": []
  }
 ],
 "metadata": {
  "kernelspec": {
   "display_name": "Python 3",
   "language": "python",
   "name": "python3"
  },
  "language_info": {
   "codemirror_mode": {
    "name": "ipython",
    "version": 3
   },
   "file_extension": ".py",
   "mimetype": "text/x-python",
   "name": "python",
   "nbconvert_exporter": "python",
   "pygments_lexer": "ipython3",
   "version": "3.6.9"
  }
 },
 "nbformat": 4,
 "nbformat_minor": 4
}
