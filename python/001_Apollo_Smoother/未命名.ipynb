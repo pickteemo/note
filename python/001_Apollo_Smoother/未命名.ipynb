{
 "cells": [
  {
   "cell_type": "code",
   "execution_count": 3,
   "metadata": {},
   "outputs": [
    {
     "name": "stdout",
     "output_type": "stream",
     "text": [
      "18\n",
      "data.yangjian.nirubiao;\n"
     ]
    }
   ],
   "source": [
    "str = \"dfasjkfhkaehfla = data.yangjian.nirubiao;\"\n",
    "\n",
    "start = str.find(\"data\")\n",
    "print(start)\n",
    "\n",
    "\n",
    "str = str[start:]\n",
    "print(str)\n",
    "\n"
   ]
  },
  {
   "cell_type": "code",
   "execution_count": 4,
   "metadata": {},
   "outputs": [],
   "source": [
    "import numpy as np\n",
    "import math\n",
    "a = np.linspace(0,math.pi * 2,20)\n",
    "b = []\n",
    "\n",
    "def NormalizeAngle(angle):\n",
    "    res = math.fmod(angle + math.pi, 2.0 * math.pi)\n",
    "    if(res <0.0):\n",
    "        res += 2.0 * math.pi\n",
    "    return res - math.pi\n",
    "\n",
    "for angle in a:\n",
    "    b.append(NormalizeAngle(angle))\n",
    "    \n"
   ]
  },
  {
   "cell_type": "code",
   "execution_count": 9,
   "metadata": {},
   "outputs": [
    {
     "data": {
      "text/plain": [
       "[<matplotlib.lines.Line2D at 0x7fbb633c5730>]"
      ]
     },
     "execution_count": 9,
     "metadata": {},
     "output_type": "execute_result"
    },
    {
     "data": {
      "image/png": "[encoded data removed]",
      "text/plain": [
       "<Figure size 432x288 with 1 Axes>"
      ]
     },
     "metadata": {
      "needs_background": "light"
     },
     "output_type": "display_data"
    }
   ],
   "source": [
    "import matplotlib.pyplot as plt\n",
    "plt.plot(a,b,\"o--\")"
   ]
  },
  {
   "cell_type": "code",
   "execution_count": null,
   "metadata": {},
   "outputs": [],
   "source": []
  }
 ],
 "metadata": {
  "kernelspec": {
   "display_name": "Python 3",
   "language": "python",
   "name": "python3"
  },
  "language_info": {
   "codemirror_mode": {
    "name": "ipython",
    "version": 3
   },
   "file_extension": ".py",
   "mimetype": "text/x-python",
   "name": "python",
   "nbconvert_exporter": "python",
   "pygments_lexer": "ipython3",
   "version": "3.8.2"
  }
 },
 "nbformat": 4,
 "nbformat_minor": 4
}
